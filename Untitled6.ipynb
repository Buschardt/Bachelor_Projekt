{
 "cells": [
  {
   "cell_type": "code",
   "execution_count": 384,
   "metadata": {},
   "outputs": [],
   "source": [
    "import matplotlib.pyplot as mpl\n",
    "import scipy.cluster.hierarchy as sch\n",
    "import random, numpy as np, pandas as pd\n",
    "from scipy.optimize import minimize"
   ]
  },
  {
   "cell_type": "code",
   "execution_count": 425,
   "metadata": {},
   "outputs": [],
   "source": [
    "def GMVPortfolio(covMatrix):\n",
    "    return np.dot(np.linalg.inv(covMatrix),\n",
    "                  np.ones(len(covMatrix)))/np.dot(np.dot(np.transpose(np.ones(len(covMatrix))),\n",
    "                                                  np.linalg.inv(covMatrix)),np.ones(len(covMatrix)))\n",
    "\n",
    "\n",
    "def getIVP(cov,**kargs):\n",
    "    #Compute the inverse-variance portfolio\n",
    "    ivp=1./np.diag(cov)\n",
    "    ivp/=ivp.sum()\n",
    "    return ivp\n",
    "\n",
    "def getClusterVar(cov,cItems):\n",
    "    #Compute variance per cluster\n",
    "    cov_=cov.loc[cItems,cItems] # matrix slice\n",
    "    w_=getIVP(cov_).reshape(-1,1)\n",
    "    cVar=np.dot(np.dot(w_.T,cov_),w_)[0,0]\n",
    "    return cVar\n",
    "\n",
    "def getQuasiDiag(link):\n",
    "    # Sort clustered items by distance\n",
    "    link=link.astype(int)\n",
    "    sortIx=pd.Series([link[-1,0],link[-1,1]])\n",
    "    numItems=link[-1,3] #number of original items\n",
    "    while sortIx.max()>=numItems:\n",
    "        sortIx.index=range(0,sortIx.shape[0]*2,2) #make space\n",
    "        df0=sortIx[sortIx>=numItems] # find clusters\n",
    "        i = df0.index;j=df0.values-numItems\n",
    "        sortIx[i]=link[j,0] # item 1\n",
    "        df0=pd.Series(link[j,1],index=i+1)\n",
    "        sortIx=sortIx.append(df0) # item 2\n",
    "        sortIx=sortIx.sort_index() #re-sort\n",
    "        sortIx.index=range(sortIx.shape[0]) # re-index\n",
    "    return sortIx.tolist()\n",
    "\n",
    "def getRecBipart(cov,sortIx):\n",
    "    # Compute HRP alloc\n",
    "    w=pd.Series(1,index=sortIx)\n",
    "    cItems=[sortIx] # initialize all items in one cluster\n",
    "    while len(cItems)>0:\n",
    "        cItems=[i[j:k] for i in cItems for j,k in ((0,len(i)//2),(len(i)//2,len(i))) if len(i)>1] # bi-section\n",
    "        for i in range(0,len(cItems),2):\n",
    "            cItems0=cItems[i] # cluster 1\n",
    "            cItems1=cItems[i+1] # cluster 2\n",
    "            cVar0=getClusterVar(cov,cItems0)\n",
    "            cVar1=getClusterVar(cov,cItems1)\n",
    "            alpha=1-cVar0/(cVar0+cVar1)\n",
    "            w[cItems0]*=alpha # weight 1\n",
    "            w[cItems1]*=1-alpha # weight 2\n",
    "            \n",
    "    return w\n",
    "\n",
    "def correlDist(corr):\n",
    "    # A distance matrix based on correlation, where 0<=d[i,j]<=1\n",
    "    #This is a proper diastance metric\n",
    "    dist=((1-corr)/2.)**.5 # distance matrix\n",
    "    return dist\n",
    "\n",
    "\n",
    "def plotCorrMatrix(path,corr,labels=None):\n",
    "    #Heatmap of the correlation matrix\n",
    "    if labels is None: labels=[]\n",
    "    mpl.pcolor(corr)\n",
    "    mpl.colorbar()\n",
    "    mpl.yticks(np.arange(.5,corr.shape[0]+.5),labels)\n",
    "    mpl.xticks(np.arange(.5,corr.shape[0]+.5),labels)\n",
    "    mpl.savefig(path)\n",
    "    mpl.clf();mpl.close()  #reset pylab\n",
    "    return\n",
    "    \n",
    "def generateData(nObs,size0,size1,sigma1,x=np.empty((0,1))):\n",
    "    #Time series of correlated variables\n",
    "    #1)generating some uncorrelated data\n",
    "    np.random.seed(seed=12345);random.seed(12345)\n",
    "    if len(x)==0:\n",
    "        x=np.random.normal(0,1,size=(nObs,size0)) # each row is a variable\n",
    "    #2) creating correlation between the variables\n",
    "    cols=[random.randint(0,size0-1) for i in range(size1)]\n",
    "    q=np.random.normal(0,sigma1,size=(nObs,len(cols)))\n",
    "    y=x[:,cols]+q\n",
    "    x=np.append(x,y,axis=1)\n",
    "    x=pd.DataFrame(x,columns=range(1,x.shape[1]+1))\n",
    "    return x#,cols\n",
    "\n",
    "def generateAutocorrelatedData(nObs,correlation,size):\n",
    "    x=np.random.normal(0,1,size=(1,size))\n",
    "    for i in range(nObs-1):\n",
    "        x=np.append(x,correlation*x[i]+np.random.normal(0,1,size=(1,size)),axis=0)\n",
    "    return x\n",
    "\n",
    "def generateCauchyDistData(nObs,size):\n",
    "    x=np.random.standard_cauchy(size=(nObs,size))\n",
    "    return pd.DataFrame(x)\n",
    "\n",
    "def generateT_DistData(nObs,size,df):\n",
    "    x=np.random.standard_t(df,size=(nObs,size))\n",
    "    return pd.DataFrame(x)\n",
    "    \n",
    "\n",
    "def main():\n",
    "    #1) Generate correlated data\n",
    "    nObs, size0,size1,sigma1,correlation = 264,5,10,1,-1\n",
    "    x = generateAutocorrelatedData(nObs,correlation,size0)\n",
    "    x,cols=generateData(nObs,size0,size1,sigma1)\n",
    "    print(findCorrelatedCols([(j+1,size0+i) for i,j in enumerate(cols,1)],size0))\n",
    "    cov,corr=x.cov(),x.corr()\n",
    "    # 2) compute and plot correl matrix\n",
    "    #corr=pd.DataFrame(np.array([[1,0.7,0.2],[0.7,1,-0.2],[0.2,-0.2,1]]))\n",
    "    plotCorrMatrix('HRP3_corr0.png',corr,labels=corr.columns)\n",
    "    # 3) cluster\n",
    "    dist=correlDist(corr)\n",
    "    link=sch.linkage(dist,'single')\n",
    "    sortIx=getQuasiDiag(link)\n",
    "    sortIx=corr.index[sortIx].tolist() #recover labels\n",
    "    df0=corr.loc[sortIx,sortIx] #re-order\n",
    "    plotCorrMatrix('HRP3_corr1.png',df0,labels=df0.columns)\n",
    "    #4) Capital allocation\n",
    "    hrp=getRecBipart(cov,sortIx)\n",
    "    return hrp\n",
    "\n",
    "def findCorrelatedCols(colnbs,size0):\n",
    "    keys = list(set([i[0] for i in colnbs]))\n",
    "    for i in range(1,size0+1):\n",
    "        if i not in keys:\n",
    "            keys.append(i)     \n",
    "    keys.sort()\n",
    "    clusters={key: [key] for key in keys}\n",
    "    for i in colnbs:\n",
    "        clusters[i[0]].append(i[1])\n",
    "    return clusters\n",
    "\n",
    "def clusterWeights(clusters, hrp):\n",
    "    weights={key:None for key in clusters.keys()}\n",
    "    for i in weights:\n",
    "        weights[i] = sum([hrp.loc[j] for j in clusters[i]])\n",
    "    return list(weights.values())\n",
    "\n",
    "def testStability():\n",
    "    nObs, size0,size1,sigma1,recalc_time, samplesize,correlation = 528,5,5,0.5,22,264,0\n",
    "    #x = generateAutocorrelatedData(nObs,correlation,size0)\n",
    "    x,cols=generateData(nObs,size0,size1,sigma1)\n",
    "    clusters=findCorrelatedCols([(j+1,size0+i) for i,j in enumerate(cols,1)],size0)\n",
    "    clusterweights=[]\n",
    "    weights=[]\n",
    "    print(clusters)\n",
    "    for i in range(int((nObs-samplesize)/recalc_time)+1):\n",
    "        x_sample = x.iloc[i*recalc_time:samplesize+recalc_time*i]\n",
    "        cov,corr=x_sample.cov(),x_sample.corr()\n",
    "        dist=correlDist(corr)\n",
    "        link=sch.linkage(dist,'single')\n",
    "        sortIx=getQuasiDiag(link)\n",
    "        sortIx=corr.index[sortIx].tolist() #recover labels\n",
    "        df0=corr.loc[sortIx,sortIx] #re-order\n",
    "        hrp=getRecBipart(cov,sortIx)\n",
    "        plotCorrMatrix('HRP3_corr{}.png'.format(i),df0,labels=df0.columns)\n",
    "        clusterweights.append(clusterWeights(clusters,hrp))\n",
    "        weights.append(list(hrp.values))\n",
    "        print(hrp)\n",
    "    return pd.DataFrame(weights)\n",
    "    return pd.DataFrame(clusterweights)\n",
    "\n",
    "\n",
    "def calc_diversification_ratio(w, V):\n",
    "    print(w)\n",
    "    print(V)\n",
    "    # average weighted vol\n",
    "    w_vol = np.dot(np.sqrt(np.diag(V)), w.T)\n",
    "    # portfolio vol\n",
    "    port_vol = np.sqrt(calculate_portfolio_var(w, V))\n",
    "    diversification_ratio = w_vol/port_vol\n",
    "    # return negative for minimization problem (maximize = minimize -)\n",
    "    return -diversification_ratio\n",
    "def sumadw0(w0):\n",
    "    return sum(w0)-1\n",
    "\n",
    "def max_div_port(w0, V, bnd=None, long_only=True):\n",
    "    # w0: initial weight\n",
    "    # V: covariance matrix\n",
    "    # bnd: individual position limit\n",
    "    # long only: long only constraint\n",
    "    cons = ({'type': 'eq', 'fun': sumadw0},)\n",
    "    \n",
    "    if long_only: # add in long only constraint\n",
    "        cons = cons + ({'type': 'ineq', 'fun':  0},)\n",
    "    res = minimize(calc_diversification_ratio, w0, bounds=bnd, args=V, method='SLSQP')\n",
    "    return res"
   ]
  },
  {
   "cell_type": "code",
   "execution_count": 427,
   "metadata": {},
   "outputs": [
    {
     "name": "stdout",
     "output_type": "stream",
     "text": [
      "[0.01 0.01 0.01 0.01 0.01 0.01 0.01 0.01 0.01 0.01]\n",
      "           1         2         3         4         5         6         7  \\\n",
      "0  -0.204708  0.478943 -0.519439 -0.555730  1.965781 -0.631914 -0.237869   \n",
      "1   1.393406  0.092908  0.281746  0.769023  1.246435  0.635209  1.343345   \n",
      "2   1.007189 -1.296221  0.274992  0.228913  1.352917  0.166980  0.934519   \n",
      "3   0.886429 -2.001637 -0.371843  1.669025 -0.438570  1.689510  0.946800   \n",
      "4  -0.539741  0.476985  3.248944 -1.021228 -0.577087 -1.146378 -0.834676   \n",
      "..       ...       ...       ...       ...       ...       ...       ...   \n",
      "95  0.398092 -0.916935 -0.082650 -1.939691  1.407994 -2.031261  0.175564   \n",
      "96  1.512406  0.526493 -0.266931  0.862284  0.083803  0.900318  1.405703   \n",
      "97 -1.872339 -0.962791  0.080067  0.128726 -0.479120  0.265602 -1.969404   \n",
      "98 -0.640281  0.745974 -0.622547  0.936289  0.750018  0.861729 -0.480451   \n",
      "99 -0.056715  2.300675  0.569497  1.489410  1.264250  1.500175 -0.070645   \n",
      "\n",
      "           8         9        10  \n",
      "0  -0.694570 -0.456549  0.507194  \n",
      "1   0.293911  0.452579 -0.004192  \n",
      "2   0.397157  0.325362 -1.435009  \n",
      "3  -0.317275 -0.348295 -1.990454  \n",
      "4   3.312407  3.261360  0.606747  \n",
      "..       ...       ...       ...  \n",
      "95 -0.148957 -0.114770 -0.867096  \n",
      "96 -0.241386 -0.055802  0.463074  \n",
      "97  0.145491 -0.037123 -0.963107  \n",
      "98 -0.713887 -0.382256  0.687038  \n",
      "99  0.453505  0.631394  2.438064  \n",
      "\n",
      "[100 rows x 10 columns]\n"
     ]
    },
    {
     "name": "stderr",
     "output_type": "stream",
     "text": [
      "/Users/magnustveter/Documents/Nordnet/anaconda3/lib/python3.7/site-packages/ipykernel_launcher.py:167: RuntimeWarning: invalid value encountered in sqrt\n"
     ]
    },
    {
     "ename": "NameError",
     "evalue": "name 'calculate_portfolio_var' is not defined",
     "output_type": "error",
     "traceback": [
      "\u001b[0;31m---------------------------------------------------------------------------\u001b[0m",
      "\u001b[0;31mNameError\u001b[0m                                 Traceback (most recent call last)",
      "\u001b[0;32m<ipython-input-427-ae458e736402>\u001b[0m in \u001b[0;36m<module>\u001b[0;34m\u001b[0m\n\u001b[0;32m----> 1\u001b[0;31m \u001b[0mmax_div_port\u001b[0m\u001b[0;34m(\u001b[0m\u001b[0mnp\u001b[0m\u001b[0;34m.\u001b[0m\u001b[0marray\u001b[0m\u001b[0;34m(\u001b[0m\u001b[0;34m[\u001b[0m\u001b[0;36m1\u001b[0m\u001b[0;34m/\u001b[0m\u001b[0;36m100\u001b[0m\u001b[0;34m]\u001b[0m\u001b[0;34m*\u001b[0m\u001b[0;36m10\u001b[0m\u001b[0;34m)\u001b[0m\u001b[0;34m,\u001b[0m\u001b[0mgenerateData\u001b[0m\u001b[0;34m(\u001b[0m\u001b[0;36m100\u001b[0m\u001b[0;34m,\u001b[0m\u001b[0;36m5\u001b[0m\u001b[0;34m,\u001b[0m\u001b[0;36m5\u001b[0m\u001b[0;34m,\u001b[0m\u001b[0;36m0.1\u001b[0m\u001b[0;34m)\u001b[0m\u001b[0;34m,\u001b[0m\u001b[0mbnd\u001b[0m\u001b[0;34m=\u001b[0m\u001b[0;34m[\u001b[0m\u001b[0;34m(\u001b[0m\u001b[0;36m0\u001b[0m\u001b[0;34m,\u001b[0m\u001b[0;32mNone\u001b[0m\u001b[0;34m)\u001b[0m\u001b[0;34m]\u001b[0m\u001b[0;34m*\u001b[0m\u001b[0;36m10\u001b[0m\u001b[0;34m)\u001b[0m\u001b[0;34m\u001b[0m\u001b[0;34m\u001b[0m\u001b[0m\n\u001b[0m\u001b[1;32m      2\u001b[0m \u001b[0;31m#testStability().plot(figsize=(13,7))\u001b[0m\u001b[0;34m\u001b[0m\u001b[0;34m\u001b[0m\u001b[0;34m\u001b[0m\u001b[0m\n",
      "\u001b[0;32m<ipython-input-425-dee10a5f540b>\u001b[0m in \u001b[0;36mmax_div_port\u001b[0;34m(w0, V, bnd, long_only)\u001b[0m\n\u001b[1;32m    183\u001b[0m     \u001b[0;32mif\u001b[0m \u001b[0mlong_only\u001b[0m\u001b[0;34m:\u001b[0m \u001b[0;31m# add in long only constraint\u001b[0m\u001b[0;34m\u001b[0m\u001b[0;34m\u001b[0m\u001b[0m\n\u001b[1;32m    184\u001b[0m         \u001b[0mcons\u001b[0m \u001b[0;34m=\u001b[0m \u001b[0mcons\u001b[0m \u001b[0;34m+\u001b[0m \u001b[0;34m(\u001b[0m\u001b[0;34m{\u001b[0m\u001b[0;34m'type'\u001b[0m\u001b[0;34m:\u001b[0m \u001b[0;34m'ineq'\u001b[0m\u001b[0;34m,\u001b[0m \u001b[0;34m'fun'\u001b[0m\u001b[0;34m:\u001b[0m  \u001b[0;36m0\u001b[0m\u001b[0;34m}\u001b[0m\u001b[0;34m,\u001b[0m\u001b[0;34m)\u001b[0m\u001b[0;34m\u001b[0m\u001b[0;34m\u001b[0m\u001b[0m\n\u001b[0;32m--> 185\u001b[0;31m     \u001b[0mres\u001b[0m \u001b[0;34m=\u001b[0m \u001b[0mminimize\u001b[0m\u001b[0;34m(\u001b[0m\u001b[0mcalc_diversification_ratio\u001b[0m\u001b[0;34m,\u001b[0m \u001b[0mw0\u001b[0m\u001b[0;34m,\u001b[0m \u001b[0mbounds\u001b[0m\u001b[0;34m=\u001b[0m\u001b[0mbnd\u001b[0m\u001b[0;34m,\u001b[0m \u001b[0margs\u001b[0m\u001b[0;34m=\u001b[0m\u001b[0mV\u001b[0m\u001b[0;34m,\u001b[0m \u001b[0mmethod\u001b[0m\u001b[0;34m=\u001b[0m\u001b[0;34m'SLSQP'\u001b[0m\u001b[0;34m)\u001b[0m\u001b[0;34m\u001b[0m\u001b[0;34m\u001b[0m\u001b[0m\n\u001b[0m\u001b[1;32m    186\u001b[0m     \u001b[0;32mreturn\u001b[0m \u001b[0mres\u001b[0m\u001b[0;34m\u001b[0m\u001b[0;34m\u001b[0m\u001b[0m\n",
      "\u001b[0;32m~/Documents/Nordnet/anaconda3/lib/python3.7/site-packages/scipy/optimize/_minimize.py\u001b[0m in \u001b[0;36mminimize\u001b[0;34m(fun, x0, args, method, jac, hess, hessp, bounds, constraints, tol, callback, options)\u001b[0m\n\u001b[1;32m    616\u001b[0m     \u001b[0;32melif\u001b[0m \u001b[0mmeth\u001b[0m \u001b[0;34m==\u001b[0m \u001b[0;34m'slsqp'\u001b[0m\u001b[0;34m:\u001b[0m\u001b[0;34m\u001b[0m\u001b[0;34m\u001b[0m\u001b[0m\n\u001b[1;32m    617\u001b[0m         return _minimize_slsqp(fun, x0, args, jac, bounds,\n\u001b[0;32m--> 618\u001b[0;31m                                constraints, callback=callback, **options)\n\u001b[0m\u001b[1;32m    619\u001b[0m     \u001b[0;32melif\u001b[0m \u001b[0mmeth\u001b[0m \u001b[0;34m==\u001b[0m \u001b[0;34m'trust-constr'\u001b[0m\u001b[0;34m:\u001b[0m\u001b[0;34m\u001b[0m\u001b[0;34m\u001b[0m\u001b[0m\n\u001b[1;32m    620\u001b[0m         return _minimize_trustregion_constr(fun, x0, args, jac, hess, hessp,\n",
      "\u001b[0;32m~/Documents/Nordnet/anaconda3/lib/python3.7/site-packages/scipy/optimize/slsqp.py\u001b[0m in \u001b[0;36m_minimize_slsqp\u001b[0;34m(func, x0, args, jac, bounds, constraints, maxiter, ftol, iprint, disp, eps, callback, **unknown_options)\u001b[0m\n\u001b[1;32m    397\u001b[0m \u001b[0;34m\u001b[0m\u001b[0m\n\u001b[1;32m    398\u001b[0m             \u001b[0;31m# Compute objective function\u001b[0m\u001b[0;34m\u001b[0m\u001b[0;34m\u001b[0m\u001b[0;34m\u001b[0m\u001b[0m\n\u001b[0;32m--> 399\u001b[0;31m             \u001b[0mfx\u001b[0m \u001b[0;34m=\u001b[0m \u001b[0mfunc\u001b[0m\u001b[0;34m(\u001b[0m\u001b[0mx\u001b[0m\u001b[0;34m)\u001b[0m\u001b[0;34m\u001b[0m\u001b[0;34m\u001b[0m\u001b[0m\n\u001b[0m\u001b[1;32m    400\u001b[0m             \u001b[0;32mtry\u001b[0m\u001b[0;34m:\u001b[0m\u001b[0;34m\u001b[0m\u001b[0;34m\u001b[0m\u001b[0m\n\u001b[1;32m    401\u001b[0m                 \u001b[0mfx\u001b[0m \u001b[0;34m=\u001b[0m \u001b[0mfloat\u001b[0m\u001b[0;34m(\u001b[0m\u001b[0mnp\u001b[0m\u001b[0;34m.\u001b[0m\u001b[0masarray\u001b[0m\u001b[0;34m(\u001b[0m\u001b[0mfx\u001b[0m\u001b[0;34m)\u001b[0m\u001b[0;34m)\u001b[0m\u001b[0;34m\u001b[0m\u001b[0;34m\u001b[0m\u001b[0m\n",
      "\u001b[0;32m~/Documents/Nordnet/anaconda3/lib/python3.7/site-packages/scipy/optimize/optimize.py\u001b[0m in \u001b[0;36mfunction_wrapper\u001b[0;34m(*wrapper_args)\u001b[0m\n\u001b[1;32m    325\u001b[0m     \u001b[0;32mdef\u001b[0m \u001b[0mfunction_wrapper\u001b[0m\u001b[0;34m(\u001b[0m\u001b[0;34m*\u001b[0m\u001b[0mwrapper_args\u001b[0m\u001b[0;34m)\u001b[0m\u001b[0;34m:\u001b[0m\u001b[0;34m\u001b[0m\u001b[0;34m\u001b[0m\u001b[0m\n\u001b[1;32m    326\u001b[0m         \u001b[0mncalls\u001b[0m\u001b[0;34m[\u001b[0m\u001b[0;36m0\u001b[0m\u001b[0;34m]\u001b[0m \u001b[0;34m+=\u001b[0m \u001b[0;36m1\u001b[0m\u001b[0;34m\u001b[0m\u001b[0;34m\u001b[0m\u001b[0m\n\u001b[0;32m--> 327\u001b[0;31m         \u001b[0;32mreturn\u001b[0m \u001b[0mfunction\u001b[0m\u001b[0;34m(\u001b[0m\u001b[0;34m*\u001b[0m\u001b[0;34m(\u001b[0m\u001b[0mwrapper_args\u001b[0m \u001b[0;34m+\u001b[0m \u001b[0margs\u001b[0m\u001b[0;34m)\u001b[0m\u001b[0;34m)\u001b[0m\u001b[0;34m\u001b[0m\u001b[0;34m\u001b[0m\u001b[0m\n\u001b[0m\u001b[1;32m    328\u001b[0m \u001b[0;34m\u001b[0m\u001b[0m\n\u001b[1;32m    329\u001b[0m     \u001b[0;32mreturn\u001b[0m \u001b[0mncalls\u001b[0m\u001b[0;34m,\u001b[0m \u001b[0mfunction_wrapper\u001b[0m\u001b[0;34m\u001b[0m\u001b[0;34m\u001b[0m\u001b[0m\n",
      "\u001b[0;32m<ipython-input-425-dee10a5f540b>\u001b[0m in \u001b[0;36mcalc_diversification_ratio\u001b[0;34m(w, V)\u001b[0m\n\u001b[1;32m    167\u001b[0m     \u001b[0mw_vol\u001b[0m \u001b[0;34m=\u001b[0m \u001b[0mnp\u001b[0m\u001b[0;34m.\u001b[0m\u001b[0mdot\u001b[0m\u001b[0;34m(\u001b[0m\u001b[0mnp\u001b[0m\u001b[0;34m.\u001b[0m\u001b[0msqrt\u001b[0m\u001b[0;34m(\u001b[0m\u001b[0mnp\u001b[0m\u001b[0;34m.\u001b[0m\u001b[0mdiag\u001b[0m\u001b[0;34m(\u001b[0m\u001b[0mV\u001b[0m\u001b[0;34m)\u001b[0m\u001b[0;34m)\u001b[0m\u001b[0;34m,\u001b[0m \u001b[0mw\u001b[0m\u001b[0;34m.\u001b[0m\u001b[0mT\u001b[0m\u001b[0;34m)\u001b[0m\u001b[0;34m\u001b[0m\u001b[0;34m\u001b[0m\u001b[0m\n\u001b[1;32m    168\u001b[0m     \u001b[0;31m# portfolio vol\u001b[0m\u001b[0;34m\u001b[0m\u001b[0;34m\u001b[0m\u001b[0;34m\u001b[0m\u001b[0m\n\u001b[0;32m--> 169\u001b[0;31m     \u001b[0mport_vol\u001b[0m \u001b[0;34m=\u001b[0m \u001b[0mnp\u001b[0m\u001b[0;34m.\u001b[0m\u001b[0msqrt\u001b[0m\u001b[0;34m(\u001b[0m\u001b[0mcalculate_portfolio_var\u001b[0m\u001b[0;34m(\u001b[0m\u001b[0mw\u001b[0m\u001b[0;34m,\u001b[0m \u001b[0mV\u001b[0m\u001b[0;34m)\u001b[0m\u001b[0;34m)\u001b[0m\u001b[0;34m\u001b[0m\u001b[0;34m\u001b[0m\u001b[0m\n\u001b[0m\u001b[1;32m    170\u001b[0m     \u001b[0mdiversification_ratio\u001b[0m \u001b[0;34m=\u001b[0m \u001b[0mw_vol\u001b[0m\u001b[0;34m/\u001b[0m\u001b[0mport_vol\u001b[0m\u001b[0;34m\u001b[0m\u001b[0;34m\u001b[0m\u001b[0m\n\u001b[1;32m    171\u001b[0m     \u001b[0;31m# return negative for minimization problem (maximize = minimize -)\u001b[0m\u001b[0;34m\u001b[0m\u001b[0;34m\u001b[0m\u001b[0;34m\u001b[0m\u001b[0m\n",
      "\u001b[0;31mNameError\u001b[0m: name 'calculate_portfolio_var' is not defined"
     ]
    }
   ],
   "source": [
    "max_div_port(np.array([1/100]*10),generateData(100,5,5,0.1),bnd=[(0,None)]*10)\n",
    "#testStability().plot(figsize=(13,7))"
   ]
  },
  {
   "cell_type": "code",
   "execution_count": 428,
   "metadata": {},
   "outputs": [],
   "source": [
    "def ewPortfolio(n):\n",
    "    return n*[1/n]\n",
    "\n",
    "def maximumDiversification(designMatrix):\n",
    "    return np.dot(np.linalg.inv(designMatrix.corr()),\n",
    "                  np.diag(corrMatrix))/np.dot(np.dot(np.transpose(np.diag(corrMatrix)),\n",
    "                                                    np.linalg.inv(corrMatrix)),np.diag(corrMatrix))"
   ]
  },
  {
   "cell_type": "code",
   "execution_count": 372,
   "metadata": {},
   "outputs": [
    {
     "name": "stdout",
     "output_type": "stream",
     "text": [
      "[3, 0, 2, 2, 1]\n",
      "          1         2         3         4         5         6         7   \\\n",
      "1   1.000000 -0.038233 -0.031407  0.014190  0.008599  0.030553  0.675733   \n",
      "2  -0.038233  1.000000 -0.028351  0.031914 -0.030051  0.034081 -0.073604   \n",
      "3  -0.031407 -0.028351  1.000000 -0.029119  0.022387 -0.031401 -0.007185   \n",
      "4   0.014190  0.031914 -0.029119  1.000000 -0.038948  0.691891 -0.000447   \n",
      "5   0.008599 -0.030051  0.022387 -0.038948  1.000000  0.018097 -0.008381   \n",
      "6   0.030553  0.034081 -0.031401  0.691891  0.018097  1.000000  0.018894   \n",
      "7   0.675733 -0.073604 -0.007185 -0.000447 -0.008381  0.018894  1.000000   \n",
      "8  -0.033497 -0.006483  0.711771 -0.040738  0.012999 -0.030200 -0.004843   \n",
      "9  -0.001033 -0.018272  0.701729 -0.014551  0.017723 -0.031352  0.032428   \n",
      "10  0.016205  0.688028 -0.031351  0.026546 -0.013772  0.018765 -0.052370   \n",
      "\n",
      "          8         9         10  \n",
      "1  -0.033497 -0.001033  0.016205  \n",
      "2  -0.006483 -0.018272  0.688028  \n",
      "3   0.711771  0.701729 -0.031351  \n",
      "4  -0.040738 -0.014551  0.026546  \n",
      "5   0.012999  0.017723 -0.013772  \n",
      "6  -0.030200 -0.031352  0.018765  \n",
      "7  -0.004843  0.032428 -0.052370  \n",
      "8   1.000000  0.466672 -0.005788  \n",
      "9   0.466672  1.000000 -0.046165  \n",
      "10 -0.005788 -0.046165  1.000000  \n",
      "[0.08732064 0.11183031 0.03473921 0.11580264 0.1670467  0.0764516\n",
      " 0.11472336 0.10392242 0.0938552  0.09430791]\n"
     ]
    },
    {
     "data": {
      "text/plain": [
       "0.9999999999999998"
      ]
     },
     "execution_count": 372,
     "metadata": {},
     "output_type": "execute_result"
    }
   ],
   "source": [
    "x,cols=generateData(1000,5,5,1)\n",
    "print(cols)\n",
    "print(pd.DataFrame(x).corr())\n",
    "print(maximumDiversification(pd.DataFrame(x).corr()))\n",
    "sum(maximumDiversification(pd.DataFrame(x).corr()))"
   ]
  },
  {
   "cell_type": "code",
   "execution_count": 370,
   "metadata": {},
   "outputs": [
    {
     "data": {
      "text/plain": [
       "array([0.60859855, 0.14572864, 0.24567281])"
      ]
     },
     "execution_count": 370,
     "metadata": {},
     "output_type": "execute_result"
    }
   ],
   "source": [
    "GMVPortfolio(np.array([[0.08,0.05,-0.015],[0.05,0.15,0.000],[-0.015,0.000,0.25]]))"
   ]
  },
  {
   "cell_type": "code",
   "execution_count": 193,
   "metadata": {},
   "outputs": [
    {
     "data": {
      "text/plain": [
       "array([11.63908169,  2.78697277,  4.6983449 ])"
      ]
     },
     "execution_count": 193,
     "metadata": {},
     "output_type": "execute_result"
    }
   ],
   "source": [
    "np.dot(np.transpose(np.ones(3)),np.linalg.inv(np.array([[0.08,0.05,-0.015],[0.05,0.15,0.000],[-0.015,0.000,0.25]])),np.ones(3))"
   ]
  },
  {
   "cell_type": "code",
   "execution_count": 203,
   "metadata": {},
   "outputs": [
    {
     "data": {
      "text/plain": [
       "19.124399359316605"
      ]
     },
     "execution_count": 203,
     "metadata": {},
     "output_type": "execute_result"
    }
   ],
   "source": [
    "np.dot(np.dot(np.ones(3),np.linalg.inv(np.array([[0.08,0.05,-0.015],[0.05,0.15,0.000],[-0.015,0.000,0.25]])))\n",
    "              ,np.transpose(np.ones(3)))\n",
    "\n",
    "\n",
    "\n",
    "\n"
   ]
  },
  {
   "cell_type": "code",
   "execution_count": null,
   "metadata": {},
   "outputs": [],
   "source": []
  }
 ],
 "metadata": {
  "kernelspec": {
   "display_name": "Python 3",
   "language": "python",
   "name": "python3"
  },
  "language_info": {
   "codemirror_mode": {
    "name": "ipython",
    "version": 3
   },
   "file_extension": ".py",
   "mimetype": "text/x-python",
   "name": "python",
   "nbconvert_exporter": "python",
   "pygments_lexer": "ipython3",
   "version": "3.7.4"
  }
 },
 "nbformat": 4,
 "nbformat_minor": 2
}
