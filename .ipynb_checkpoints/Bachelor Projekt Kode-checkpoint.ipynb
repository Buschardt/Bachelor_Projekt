{
 "cells": [
  {
   "cell_type": "code",
   "execution_count": 1,
   "metadata": {},
   "outputs": [],
   "source": [
    "import matplotlib.pyplot as mpl\n",
    "import scipy.cluster.hierarchy as sch\n",
    "import random, numpy as np, pandas as pd\n",
    "from scipy.optimize import minimize"
   ]
  },
  {
   "cell_type": "code",
   "execution_count": 2,
   "metadata": {},
   "outputs": [],
   "source": [
    "#Equally Weighted Portfolio\n",
    "def ewPortfolio(n):\n",
    "    return n*[1/n]"
   ]
  },
  {
   "cell_type": "code",
   "execution_count": 3,
   "metadata": {},
   "outputs": [],
   "source": [
    "#Risk Parity\n",
    "def calculate_risk_contribution(w,V):\n",
    "    # function that calculates asset contribution to total risk\n",
    "    w = np.matrix(w)\n",
    "    sigma = np.sqrt(calculate_portfolio_var(w,V))\n",
    "    # Marginal Risk Contribution\n",
    "    MRC = np.dot(V,w.T)\n",
    "    # Risk Contribution\n",
    "    RC = np.multiply(MRC,w.T)/sigma\n",
    "    return RC\n",
    "\n",
    "def risk_budget_objective(x,pars):\n",
    "    # calculate portfolio risk\n",
    "    V = pars[0]# covariance table\n",
    "    x_t = pars[1] # risk target in percent of portfolio risk\n",
    "    sig_p =  np.sqrt(calculate_portfolio_var(x,V)) # portfolio sigma\n",
    "    risk_target = np.asmatrix(np.multiply(sig_p,x_t))\n",
    "    asset_RC = calculate_risk_contribution(x,V)\n",
    "    J = sum(np.square(asset_RC-risk_target.T)) # sum of squared error\n",
    "    return J\n",
    "\n",
    "def risk_parity(riskbudget,w0,V):\n",
    "    x_t = riskbudget # your risk budget percent of total portfolio risk (equal risk)\n",
    "    cons = ({'type': 'eq', 'fun': total_weight_constraint},\n",
    "    {'type': 'ineq', 'fun': long_only_constraint})\n",
    "    res= minimize(risk_budget_objective, w0, args=[V,x_t], method='SLSQP',constraints=cons) \n",
    "    return res"
   ]
  },
  {
   "cell_type": "code",
   "execution_count": 4,
   "metadata": {},
   "outputs": [],
   "source": [
    "#Global minimum variance\n",
    "def GMVPortfolio(covMatrix):\n",
    "    return np.dot(np.linalg.inv(covMatrix),\n",
    "                  np.ones(len(covMatrix)))/np.dot(np.dot(np.transpose(np.ones(len(covMatrix))),\n",
    "                                                  np.linalg.inv(covMatrix)),np.ones(len(covMatrix)))"
   ]
  },
  {
   "cell_type": "code",
   "execution_count": 5,
   "metadata": {},
   "outputs": [],
   "source": [
    "#Inverse variance portfolio (Risk parity fra De Prado)\n",
    "def getIVP(cov,**kargs):\n",
    "    #Compute the inverse-variance portfolio\n",
    "    ivp=1./np.diag(cov)\n",
    "    ivp/=ivp.sum()\n",
    "    return ivp"
   ]
  },
  {
   "cell_type": "code",
   "execution_count": 6,
   "metadata": {},
   "outputs": [],
   "source": [
    "#Maximum diversification\n",
    "def calculate_portfolio_var(w,V):\n",
    "    # function that calculates portfolio risk\n",
    "    return (np.dot(np.dot(w,V),w.T))\n",
    "\n",
    "def calc_diversification_ratio(w, V):\n",
    "    # average weighted vol\n",
    "    w_vol = np.dot(np.sqrt(np.diag(V)), w.T)\n",
    "    # portfolio vol\n",
    "    port_vol = np.sqrt(calculate_portfolio_var(w, V))\n",
    "    diversification_ratio = w_vol/port_vol\n",
    "    # return negative for minimization problem (maximize = minimize -)\n",
    "    return -diversification_ratio\n",
    "\n",
    "def total_weight_constraint(x):\n",
    "    return np.sum(x)-1\n",
    "\n",
    "def long_only_constraint(x):\n",
    "    return x\n",
    "\n",
    "def max_div_port(w0, V, bnd=None, long_only=True):\n",
    "    # w0: initial weight\n",
    "    # V: covariance matrix\n",
    "    # bnd: individual position limit\n",
    "    # long only: long only constraint\n",
    "    cons = ({'type': 'eq', 'fun': total_weight_constraint},)\n",
    "    if long_only: # add in long only constraint\n",
    "        cons = cons + ({'type': 'ineq', 'fun':  long_only_constraint},)\n",
    "    res = minimize(calc_diversification_ratio, w0, bounds=bnd, args=V, method='SLSQP', constraints=cons)\n",
    "    return res"
   ]
  },
  {
   "cell_type": "code",
   "execution_count": 7,
   "metadata": {},
   "outputs": [],
   "source": [
    "#HRP\n",
    "def getClusterVar(cov,cItems):\n",
    "    #Compute variance per cluster\n",
    "    cov_=cov.loc[cItems,cItems] # matrix slice\n",
    "    w_=getIVP(cov_).reshape(-1,1)\n",
    "    cVar=np.dot(np.dot(w_.T,cov_),w_)[0,0]\n",
    "    return cVar\n",
    "\n",
    "def getQuasiDiag(link):\n",
    "    # Sort clustered items by distance\n",
    "    link=link.astype(int)\n",
    "    sortIx=pd.Series([link[-1,0],link[-1,1]])\n",
    "    numItems=link[-1,3] #number of original items\n",
    "    while sortIx.max()>=numItems:\n",
    "        sortIx.index=range(0,sortIx.shape[0]*2,2) #make space\n",
    "        df0=sortIx[sortIx>=numItems] # find clusters\n",
    "        i = df0.index;j=df0.values-numItems\n",
    "        sortIx[i]=link[j,0] # item 1\n",
    "        df0=pd.Series(link[j,1],index=i+1)\n",
    "        sortIx=sortIx.append(df0) # item 2\n",
    "        sortIx=sortIx.sort_index() #re-sort\n",
    "        sortIx.index=range(sortIx.shape[0]) # re-index\n",
    "    return sortIx.tolist()\n",
    "\n",
    "def getRecBipart(cov,sortIx):\n",
    "    # Compute HRP alloc\n",
    "    w=pd.Series(1,index=sortIx)\n",
    "    cItems=[sortIx] # initialize all items in one cluster\n",
    "    while len(cItems)>0:\n",
    "        cItems=[i[j:k] for i in cItems for j,k in ((0,len(i)//2),(len(i)//2,len(i))) if len(i)>1] # bi-section\n",
    "        for i in range(0,len(cItems),2):\n",
    "            cItems0=cItems[i] # cluster 1\n",
    "            cItems1=cItems[i+1] # cluster 2\n",
    "            cVar0=getClusterVar(cov,cItems0)\n",
    "            cVar1=getClusterVar(cov,cItems1)\n",
    "            alpha=1-cVar0/(cVar0+cVar1)\n",
    "            w[cItems0]*=alpha # weight 1\n",
    "            w[cItems1]*=1-alpha # weight 2\n",
    "            \n",
    "    return w\n",
    "\n",
    "def correlDist(corr):\n",
    "    # A distance matrix based on correlation, where 0<=d[i,j]<=1\n",
    "    #This is a proper diastance metric\n",
    "    dist=((1-corr)/2.)**.5 # distance matrix\n",
    "    return dist\n",
    "\n",
    "\n",
    "def plotCorrMatrix(path,corr,labels=None):\n",
    "    #Heatmap of the correlation matrix\n",
    "    if labels is None: labels=[]\n",
    "    mpl.pcolor(corr)\n",
    "    mpl.colorbar()\n",
    "    mpl.yticks(np.arange(.5,corr.shape[0]+.5),labels)\n",
    "    mpl.xticks(np.arange(.5,corr.shape[0]+.5),labels)\n",
    "    mpl.savefig(path)\n",
    "    mpl.clf();mpl.close()  #reset pylab\n",
    "    return\n",
    "    \n",
    "def generateData(nObs,size0,size1,sigma1,x=np.empty((0,1))):\n",
    "    #Time series of correlated variables\n",
    "    #1)generating some uncorrelated data\n",
    "    np.random.seed(seed=12345);random.seed(12345)\n",
    "    if len(x)==0:\n",
    "        x=np.random.normal(0,1,size=(nObs,size0)) # each row is a variable\n",
    "    #2) creating correlation between the variables\n",
    "    cols=[random.randint(0,size0-1) for i in range(size1)]\n",
    "    q=np.random.normal(0,sigma1,size=(nObs,len(cols)))\n",
    "    y=x[:,cols]+q\n",
    "    x=np.append(x,y,axis=1)\n",
    "    x=pd.DataFrame(x,columns=range(1,x.shape[1]+1))\n",
    "    return x,cols\n",
    "\n",
    "def generateAutocorrelatedData(nObs,correlation,size):\n",
    "    x=np.random.normal(0,1,size=(1,size))\n",
    "    for i in range(nObs-1):\n",
    "        x=np.append(x,correlation*x[i]+np.random.normal(0,1,size=(1,size)),axis=0)\n",
    "    return x\n",
    "\n",
    "def generateCauchyDistData(nObs,size):\n",
    "    x=np.random.standard_cauchy(size=(nObs,size))\n",
    "    return pd.DataFrame(x)\n",
    "\n",
    "def generateT_DistData(nObs,size,df):\n",
    "    x=np.random.standard_t(df,size=(nObs,size))\n",
    "    return pd.DataFrame(x)\n",
    "    \n",
    "def findCorrelatedCols(colnbs,size0):\n",
    "    keys = list(set([i[0] for i in colnbs]))\n",
    "    for i in range(1,size0+1):\n",
    "        if i not in keys:\n",
    "            keys.append(i)     \n",
    "    keys.sort()\n",
    "    clusters={key: [key] for key in keys}\n",
    "    for i in colnbs:\n",
    "        clusters[i[0]].append(i[1])\n",
    "    return clusters\n",
    "\n",
    "def clusterWeights(clusters, hrp):\n",
    "    weights={key:None for key in clusters.keys()}\n",
    "    for i in weights:\n",
    "        weights[i] = sum([hrp.loc[j] for j in clusters[i]])\n",
    "    return list(weights.values())\n",
    "    \n",
    "    \n",
    "def main():\n",
    "    #1) Generate correlated data\n",
    "    nObs, size0,size1,sigma1,correlation = 1000,5,10,0.5,-1\n",
    "    #x = generateAutocorrelatedData(nObs,correlation,size0)\n",
    "    x, cols=generateData(nObs,size0,size1,sigma1)\n",
    "    print(findCorrelatedCols([(j+1,size0+i) for i,j in enumerate(cols,1)],size0))\n",
    "    cov,corr=x.cov(),x.corr()\n",
    "    # 2) compute and plot correl matrix\n",
    "    #corr=pd.DataFrame(np.array([[1,0.7,0.2],[0.7,1,-0.2],[0.2,-0.2,1]]))\n",
    "    plotCorrMatrix('HRP3_corr0.png',corr,labels=corr.columns)\n",
    "    # 3) cluster\n",
    "    dist=correlDist(corr)\n",
    "    link=sch.linkage(dist,'single')\n",
    "    sortIx=getQuasiDiag(link)\n",
    "    sortIx=corr.index[sortIx].tolist() #recover labels\n",
    "    df0=corr.loc[sortIx,sortIx] #re-order\n",
    "    plotCorrMatrix('HRP3_corr1.png',df0,labels=df0.columns)\n",
    "    #4) Capital allocation\n",
    "    hrp=getRecBipart(cov,sortIx)\n",
    "    \n",
    "    plot_weights(hrp, cov, x)\n",
    "    \n",
    "    return hrp\n",
    "\n",
    "\n",
    "def testStability():\n",
    "    nObs, size0,size1,sigma1,recalc_time, samplesize,correlation = 528,5,5,0.5,22,264,0\n",
    "    #x = generateAutocorrelatedData(nObs,correlation,size0)\n",
    "    x,cols=generateData(nObs,size0,size1,sigma1)\n",
    "    clusters=findCorrelatedCols([(j+1,size0+i) for i,j in enumerate(cols,1)],size0)\n",
    "    clusterweights=[]\n",
    "    weights=[]\n",
    "    print(clusters)\n",
    "    for i in range(int((nObs-samplesize)/recalc_time)+1):\n",
    "        x_sample = x.iloc[i*recalc_time:samplesize+recalc_time*i]\n",
    "        cov,corr=x_sample.cov(),x_sample.corr()\n",
    "        dist=correlDist(corr)\n",
    "        link=sch.linkage(dist,'single')\n",
    "        sortIx=getQuasiDiag(link)\n",
    "        sortIx=corr.index[sortIx].tolist() #recover labels\n",
    "        df0=corr.loc[sortIx,sortIx] #re-order\n",
    "        hrp=getRecBipart(cov,sortIx)\n",
    "        plotCorrMatrix('HRP3_corr{}.png'.format(i),df0,labels=df0.columns)\n",
    "        clusterweights.append(clusterWeights(clusters,hrp))\n",
    "        weights.append(list(hrp.values))\n",
    "        print(hrp)\n",
    "    return pd.DataFrame(weights)\n",
    "    return pd.DataFrame(clusterweights)"
   ]
  },
  {
   "cell_type": "code",
   "execution_count": 8,
   "metadata": {},
   "outputs": [],
   "source": [
    "def risk_contribution(weights,cov):\n",
    "    portvar = np.dot(np.dot(weights,cov),weights.T)\n",
    "    rc=[(weights[i]*np.dot(cov,weights)[i])/portvar for i in range(len(weights))]\n",
    "    return rc\n",
    "    \n",
    "    "
   ]
  },
  {
   "cell_type": "code",
   "execution_count": 40,
   "metadata": {},
   "outputs": [],
   "source": [
    "#Barplots of allocations\n",
    "def plot_weights(hrp, cov, data):\n",
    "    index = list(data.columns)\n",
    "    \n",
    "    #HRP\n",
    "    hrp = hrp.sort_values(ascending=False)\n",
    "    hrp.plot.bar(figsize = (15,7))\n",
    "    mpl.title(\"HRP\")\n",
    "    mpl.ylabel(\"Weight\")\n",
    "    mpl.xlabel(\"Asset\")\n",
    "    mpl.ylim((0, 0.5))\n",
    "    mpl.show()\n",
    "\n",
    "    #Naive Risk-Parity\n",
    "    ivp = getIVP(cov)\n",
    "    ivp = pd.Series(ivp, index=index)\n",
    "    ivp = ivp.sort_values(ascending=False)\n",
    "    ivp.plot.bar(figsize = (15,7))\n",
    "    mpl.title(\"Naive Risk parity (IVP)\")\n",
    "    mpl.ylabel(\"Weight\")\n",
    "    mpl.xlabel(\"Asset\")\n",
    "    mpl.ylim((0,0.5))\n",
    "    mpl.show()\n",
    "    \n",
    "    #Risk Parity\n",
    "    rp = risk_parity(np.array([1/len(cov)]*len(cov)),np.array([1/len(cov)]*len(cov)),cov).x\n",
    "    rp = pd.Series(rp, index=index)\n",
    "    rp = rp.sort_values(ascending=False)\n",
    "    rp.plot.bar(figsize = (15,7))\n",
    "    mpl.title(\"Risk Parity\")\n",
    "    mpl.ylabel(\"Weight\")\n",
    "    mpl.xlabel(\"Asset\")\n",
    "    mpl.ylim((0, 0.5))\n",
    "    mpl.show()\n",
    "    \n",
    "    #GMV\n",
    "    gmv = GMVPortfolio(cov)\n",
    "    gmv = pd.Series(gmv, index=index)\n",
    "    gmv = gmv.sort_values(ascending=False)\n",
    "    gmv.plot.bar(figsize = (15,7))\n",
    "    mpl.title(\"GMV\")\n",
    "    mpl.ylabel(\"Weight\")\n",
    "    mpl.xlabel(\"Asset\")\n",
    "    mpl.ylim((-0.1, 0.5))\n",
    "    mpl.show()\n",
    "    \n",
    "    #Maximum_Div_port\n",
    "    mdv = pd.Series(max_div_port(np.array([1/len(cov)]*len(cov)),cov).x, index=index)\n",
    "    mdv = mdv.sort_values(ascending=False)\n",
    "    mdv.plot.bar(figsize = (15,7))\n",
    "    mpl.title(\"Maximum Diversification Portfolio\")\n",
    "    mpl.ylabel(\"Weight\")\n",
    "    mpl.xlabel(\"Asset\")\n",
    "    mpl.ylim((-0.1, 0.5))\n",
    "    mpl.show()\n",
    "    "
   ]
  },
  {
   "cell_type": "code",
   "execution_count": 39,
   "metadata": {},
   "outputs": [
    {
     "name": "stdout",
     "output_type": "stream",
     "text": [
      "{1: [1, 7], 2: [2, 10, 14], 3: [3, 8, 9, 11, 15], 4: [4, 6, 13], 5: [5, 12]}\n"
     ]
    },
    {
     "name": "stderr",
     "output_type": "stream",
     "text": [
      "/Users/magnustveter/Documents/Nordnet/anaconda3/lib/python3.7/site-packages/ipykernel_launcher.py:118: ClusterWarning: scipy.cluster: The symmetric non-negative hollow observation matrix looks suspiciously like an uncondensed distance matrix\n"
     ]
    },
    {
     "data": {
      "image/png": "[encoded data removed]",
      "text/plain": [
       "<Figure size 432x288 with 1 Axes>"
      ]
     },
     "metadata": {
      "needs_background": "light"
     },
     "output_type": "display_data"
    },
    {
     "data": {
      "image/png": "[encoded data removed]",
      "text/plain": [
       "<Figure size 1080x504 with 1 Axes>"
      ]
     },
     "metadata": {
      "needs_background": "light"
     },
     "output_type": "display_data"
    },
    {
     "data": {
      "image/png": "[encoded data removed]",
      "text/plain": [
       "<Figure size 432x288 with 1 Axes>"
      ]
     },
     "metadata": {
      "needs_background": "light"
     },
     "output_type": "display_data"
    },
    {
     "data": {
      "image/png": "[encoded data removed]",
      "text/plain": [
       "<Figure size 432x288 with 1 Axes>"
      ]
     },
     "metadata": {
      "needs_background": "light"
     },
     "output_type": "display_data"
    },
    {
     "data": {
      "image/png": "[encoded data removed]",
      "text/plain": [
       "<Figure size 432x288 with 1 Axes>"
      ]
     },
     "metadata": {
      "needs_background": "light"
     },
     "output_type": "display_data"
    },
    {
     "data": {
      "text/plain": [
       "11    0.052035\n",
       "15    0.028002\n",
       "9     0.028736\n",
       "3     0.063030\n",
       "8     0.051995\n",
       "10    0.051740\n",
       "2     0.062092\n",
       "14    0.081139\n",
       "6     0.085112\n",
       "4     0.055974\n",
       "13    0.046177\n",
       "5     0.105138\n",
       "12    0.084696\n",
       "1     0.111757\n",
       "7     0.092377\n",
       "dtype: float64"
      ]
     },
     "execution_count": 39,
     "metadata": {},
     "output_type": "execute_result"
    }
   ],
   "source": [
    "main()"
   ]
  },
  {
   "cell_type": "code",
   "execution_count": 44,
   "metadata": {},
   "outputs": [
    {
     "data": {
      "text/html": [
       "<div>\n",
       "<style scoped>\n",
       "    .dataframe tbody tr th:only-of-type {\n",
       "        vertical-align: middle;\n",
       "    }\n",
       "\n",
       "    .dataframe tbody tr th {\n",
       "        vertical-align: top;\n",
       "    }\n",
       "\n",
       "    .dataframe thead th {\n",
       "        text-align: right;\n",
       "    }\n",
       "</style>\n",
       "<table border=\"1\" class=\"dataframe\">\n",
       "  <thead>\n",
       "    <tr style=\"text-align: right;\">\n",
       "      <th></th>\n",
       "      <th>S_11</th>\n",
       "      <th>S_12</th>\n",
       "      <th>S_13</th>\n",
       "      <th>S_14</th>\n",
       "      <th>S_15</th>\n",
       "      <th>S_16</th>\n",
       "      <th>S_17</th>\n",
       "      <th>S_21</th>\n",
       "      <th>S_22</th>\n",
       "      <th>S_23</th>\n",
       "      <th>...</th>\n",
       "      <th>S_45</th>\n",
       "      <th>S_46</th>\n",
       "      <th>S_47</th>\n",
       "      <th>S_51</th>\n",
       "      <th>S_52</th>\n",
       "      <th>S_53</th>\n",
       "      <th>S_54</th>\n",
       "      <th>S_55</th>\n",
       "      <th>S_56</th>\n",
       "      <th>S_57</th>\n",
       "    </tr>\n",
       "  </thead>\n",
       "  <tbody>\n",
       "    <tr>\n",
       "      <th>3000</th>\n",
       "      <td>0.000712</td>\n",
       "      <td>0.000860</td>\n",
       "      <td>-0.000231</td>\n",
       "      <td>0.000478</td>\n",
       "      <td>0.000869</td>\n",
       "      <td>-0.002458</td>\n",
       "      <td>0.003165</td>\n",
       "      <td>0.001137</td>\n",
       "      <td>0.001133</td>\n",
       "      <td>-0.002092</td>\n",
       "      <td>...</td>\n",
       "      <td>-0.000294</td>\n",
       "      <td>-0.000876</td>\n",
       "      <td>0.004545</td>\n",
       "      <td>0.000191</td>\n",
       "      <td>-0.000045</td>\n",
       "      <td>0.001742</td>\n",
       "      <td>-0.000340</td>\n",
       "      <td>-0.000619</td>\n",
       "      <td>0.001232</td>\n",
       "      <td>0.008843</td>\n",
       "    </tr>\n",
       "    <tr>\n",
       "      <th>3001</th>\n",
       "      <td>-0.000915</td>\n",
       "      <td>0.000908</td>\n",
       "      <td>-0.000321</td>\n",
       "      <td>-0.000867</td>\n",
       "      <td>0.001068</td>\n",
       "      <td>-0.003567</td>\n",
       "      <td>-0.000741</td>\n",
       "      <td>0.001702</td>\n",
       "      <td>-0.001983</td>\n",
       "      <td>-0.000326</td>\n",
       "      <td>...</td>\n",
       "      <td>-0.000123</td>\n",
       "      <td>-0.000041</td>\n",
       "      <td>-0.000881</td>\n",
       "      <td>-0.000189</td>\n",
       "      <td>0.000262</td>\n",
       "      <td>0.000041</td>\n",
       "      <td>-0.000769</td>\n",
       "      <td>0.001978</td>\n",
       "      <td>-0.001137</td>\n",
       "      <td>-0.000497</td>\n",
       "    </tr>\n",
       "    <tr>\n",
       "      <th>3002</th>\n",
       "      <td>-0.001244</td>\n",
       "      <td>0.000057</td>\n",
       "      <td>0.000650</td>\n",
       "      <td>-0.000744</td>\n",
       "      <td>-0.001052</td>\n",
       "      <td>-0.005006</td>\n",
       "      <td>0.004143</td>\n",
       "      <td>-0.000758</td>\n",
       "      <td>0.000725</td>\n",
       "      <td>-0.000285</td>\n",
       "      <td>...</td>\n",
       "      <td>-0.000509</td>\n",
       "      <td>0.002367</td>\n",
       "      <td>-0.001896</td>\n",
       "      <td>-0.000908</td>\n",
       "      <td>-0.000573</td>\n",
       "      <td>-0.001036</td>\n",
       "      <td>0.000362</td>\n",
       "      <td>-0.000249</td>\n",
       "      <td>-0.003951</td>\n",
       "      <td>-0.000651</td>\n",
       "    </tr>\n",
       "    <tr>\n",
       "      <th>3003</th>\n",
       "      <td>0.000387</td>\n",
       "      <td>0.000957</td>\n",
       "      <td>0.000702</td>\n",
       "      <td>-0.000456</td>\n",
       "      <td>-0.000250</td>\n",
       "      <td>0.001879</td>\n",
       "      <td>-0.000996</td>\n",
       "      <td>-0.001584</td>\n",
       "      <td>0.002330</td>\n",
       "      <td>-0.001601</td>\n",
       "      <td>...</td>\n",
       "      <td>-0.001039</td>\n",
       "      <td>-0.000666</td>\n",
       "      <td>0.004417</td>\n",
       "      <td>-0.002227</td>\n",
       "      <td>0.000173</td>\n",
       "      <td>-0.000443</td>\n",
       "      <td>0.000844</td>\n",
       "      <td>0.000753</td>\n",
       "      <td>0.005187</td>\n",
       "      <td>0.001703</td>\n",
       "    </tr>\n",
       "    <tr>\n",
       "      <th>3004</th>\n",
       "      <td>0.001583</td>\n",
       "      <td>0.000871</td>\n",
       "      <td>0.001179</td>\n",
       "      <td>0.000859</td>\n",
       "      <td>0.000641</td>\n",
       "      <td>0.001300</td>\n",
       "      <td>0.000607</td>\n",
       "      <td>-0.000553</td>\n",
       "      <td>-0.000934</td>\n",
       "      <td>0.000685</td>\n",
       "      <td>...</td>\n",
       "      <td>0.001341</td>\n",
       "      <td>-0.000180</td>\n",
       "      <td>0.000270</td>\n",
       "      <td>0.001503</td>\n",
       "      <td>0.000014</td>\n",
       "      <td>0.000604</td>\n",
       "      <td>-0.001207</td>\n",
       "      <td>0.001242</td>\n",
       "      <td>-0.002193</td>\n",
       "      <td>-0.003329</td>\n",
       "    </tr>\n",
       "  </tbody>\n",
       "</table>\n",
       "<p>5 rows × 35 columns</p>\n",
       "</div>"
      ],
      "text/plain": [
       "          S_11      S_12      S_13      S_14      S_15      S_16      S_17  \\\n",
       "3000  0.000712  0.000860 -0.000231  0.000478  0.000869 -0.002458  0.003165   \n",
       "3001 -0.000915  0.000908 -0.000321 -0.000867  0.001068 -0.003567 -0.000741   \n",
       "3002 -0.001244  0.000057  0.000650 -0.000744 -0.001052 -0.005006  0.004143   \n",
       "3003  0.000387  0.000957  0.000702 -0.000456 -0.000250  0.001879 -0.000996   \n",
       "3004  0.001583  0.000871  0.001179  0.000859  0.000641  0.001300  0.000607   \n",
       "\n",
       "          S_21      S_22      S_23  ...      S_45      S_46      S_47  \\\n",
       "3000  0.001137  0.001133 -0.002092  ... -0.000294 -0.000876  0.004545   \n",
       "3001  0.001702 -0.001983 -0.000326  ... -0.000123 -0.000041 -0.000881   \n",
       "3002 -0.000758  0.000725 -0.000285  ... -0.000509  0.002367 -0.001896   \n",
       "3003 -0.001584  0.002330 -0.001601  ... -0.001039 -0.000666  0.004417   \n",
       "3004 -0.000553 -0.000934  0.000685  ...  0.001341 -0.000180  0.000270   \n",
       "\n",
       "          S_51      S_52      S_53      S_54      S_55      S_56      S_57  \n",
       "3000  0.000191 -0.000045  0.001742 -0.000340 -0.000619  0.001232  0.008843  \n",
       "3001 -0.000189  0.000262  0.000041 -0.000769  0.001978 -0.001137 -0.000497  \n",
       "3002 -0.000908 -0.000573 -0.001036  0.000362 -0.000249 -0.003951 -0.000651  \n",
       "3003 -0.002227  0.000173 -0.000443  0.000844  0.000753  0.005187  0.001703  \n",
       "3004  0.001503  0.000014  0.000604 -0.001207  0.001242 -0.002193 -0.003329  \n",
       "\n",
       "[5 rows x 35 columns]"
      ]
     },
     "execution_count": 44,
     "metadata": {},
     "output_type": "execute_result"
    }
   ],
   "source": [
    "#data fra excel fil arp_strategies\n",
    "for i in range(5):\n",
    "    arp_data = pd.read_excel(\"arp_strategies.xlsx\", sheet_name=\"S_{}\".format(i+1))\n",
    "    arp_data = arp_data.iloc[3000:3500] #nogle strategier starter først fra 2005, så de første 2611 rækker fjernes\n",
    "    arp_data = arp_data.drop(['Date'], axis=1)\n",
    "    if i == 0:\n",
    "        arp_data_samlet = arp_data\n",
    "    else:\n",
    "        arp_data_samlet = pd.merge(arp_data_samlet,arp_data,right_index = True, left_index = True)\n",
    "\n",
    "arp_data = arp_data_samlet        \n",
    "arp_data.head()"
   ]
  },
  {
   "cell_type": "code",
   "execution_count": 36,
   "metadata": {},
   "outputs": [],
   "source": [
    "def main_2():\n",
    "    #1) data\n",
    "    x = arp_data\n",
    "    cov,corr=x.cov(),x.corr()\n",
    "    # 2) compute and plot correl matrix\n",
    "    #corr=pd.DataFrame(np.array([[1,0.7,0.2],[0.7,1,-0.2],[0.2,-0.2,1]]))\n",
    "    plotCorrMatrix('HRP3_corr0.png',corr,labels=corr.columns)\n",
    "    # 3) cluster\n",
    "    dist=correlDist(corr)\n",
    "    link=sch.linkage(dist,'single')\n",
    "    sortIx=getQuasiDiag(link)\n",
    "    sortIx=corr.index[sortIx].tolist() #recover labels\n",
    "    df0=corr.loc[sortIx,sortIx] #re-order\n",
    "    plotCorrMatrix('HRP3_corr1.png',df0,labels=df0.columns)\n",
    "    #4) Capital allocation\n",
    "    hrp=getRecBipart(cov,sortIx)\n",
    "    \n",
    "    plot_weights(hrp, cov, x)\n",
    "    \n",
    "    return hrp"
   ]
  },
  {
   "cell_type": "code",
   "execution_count": 45,
   "metadata": {},
   "outputs": [
    {
     "name": "stderr",
     "output_type": "stream",
     "text": [
      "/Users/magnustveter/Documents/Nordnet/anaconda3/lib/python3.7/site-packages/ipykernel_launcher.py:10: ClusterWarning: scipy.cluster: The symmetric non-negative hollow observation matrix looks suspiciously like an uncondensed distance matrix\n",
      "  # Remove the CWD from sys.path while we load stuff.\n"
     ]
    },
    {
     "data": {
      "image/png": "[encoded data removed]",
      "text/plain": [
       "<Figure size 1080x504 with 1 Axes>"
      ]
     },
     "metadata": {
      "needs_background": "light"
     },
     "output_type": "display_data"
    },
    {
     "data": {
      "image/png": "[encoded data removed]",
      "text/plain": [
       "<Figure size 1080x504 with 1 Axes>"
      ]
     },
     "metadata": {
      "needs_background": "light"
     },
     "output_type": "display_data"
    },
    {
     "data": {
      "image/png": "[encoded data removed]",
      "text/plain": [
       "<Figure size 1080x504 with 1 Axes>"
      ]
     },
     "metadata": {
      "needs_background": "light"
     },
     "output_type": "display_data"
    },
    {
     "data": {
      "image/png": "[encoded data removed]",
      "text/plain": [
       "<Figure size 1080x504 with 1 Axes>"
      ]
     },
     "metadata": {
      "needs_background": "light"
     },
     "output_type": "display_data"
    },
    {
     "data": {
      "image/png": "[encoded data removed]",
      "text/plain": [
       "<Figure size 1080x504 with 1 Axes>"
      ]
     },
     "metadata": {
      "needs_background": "light"
     },
     "output_type": "display_data"
    },
    {
     "data": {
      "text/plain": [
       "S_53    0.043829\n",
       "S_35    0.074536\n",
       "S_34    0.066628\n",
       "S_24    0.042771\n",
       "S_14    0.040568\n",
       "S_44    0.034329\n",
       "S_54    0.029444\n",
       "S_45    0.038036\n",
       "S_52    0.061218\n",
       "S_42    0.048733\n",
       "S_12    0.031252\n",
       "S_22    0.017847\n",
       "S_25    0.022197\n",
       "S_15    0.034321\n",
       "S_55    0.028706\n",
       "S_41    0.053341\n",
       "S_31    0.045658\n",
       "S_21    0.015573\n",
       "S_11    0.025142\n",
       "S_51    0.022613\n",
       "S_56    0.004485\n",
       "S_32    0.050396\n",
       "S_46    0.007532\n",
       "S_26    0.005435\n",
       "S_16    0.004620\n",
       "S_13    0.032771\n",
       "S_33    0.041133\n",
       "S_36    0.005537\n",
       "S_47    0.004074\n",
       "S_37    0.003208\n",
       "S_57    0.001676\n",
       "S_17    0.001557\n",
       "S_27    0.002050\n",
       "S_23    0.024973\n",
       "S_43    0.033809\n",
       "dtype: float64"
      ]
     },
     "execution_count": 45,
     "metadata": {},
     "output_type": "execute_result"
    }
   ],
   "source": [
    "main_2()"
   ]
  },
  {
   "cell_type": "code",
   "execution_count": null,
   "metadata": {},
   "outputs": [],
   "source": []
  }
 ],
 "metadata": {
  "kernelspec": {
   "display_name": "Python 3",
   "language": "python",
   "name": "python3"
  },
  "language_info": {
   "codemirror_mode": {
    "name": "ipython",
    "version": 3
   },
   "file_extension": ".py",
   "mimetype": "text/x-python",
   "name": "python",
   "nbconvert_exporter": "python",
   "pygments_lexer": "ipython3",
   "version": "3.7.4"
  }
 },
 "nbformat": 4,
 "nbformat_minor": 2
}
